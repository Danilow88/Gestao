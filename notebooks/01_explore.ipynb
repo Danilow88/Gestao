{
  "cells": [
    {
      "cell_type": "markdown",
      "metadata": {},
      "source": [
        "# 01 \u2013 Explore\n\nQuick first look at transactions and customers."
      ]
    },
    {
      "cell_type": "code",
      "execution_count": 1,
      "metadata": {},
      "outputs": [],
      "source": [
        "import pandas as pd\nfrom pathlib import Path\nfrom app.ingest import load_data, basic_eda\n\nDATA_DIR = Path(__file__).resolve().parents[1] / 'data'\ndf_tx, df_cust = load_data(DATA_DIR)\nbasic_eda(df_tx).head()"
      ]
    }
  ],
  "metadata": {
    "kernelspec": {
      "display_name": "Python 3",
      "language": "python",
      "name": "python3"
    },
    "language_info": {
      "name": "python",
      "version": "3.x"
    }
  },
  "nbformat": 4,
  "nbformat_minor": 5
}